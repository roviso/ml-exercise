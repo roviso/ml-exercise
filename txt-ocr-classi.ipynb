{
 "cells": [
  {
   "cell_type": "code",
   "execution_count": 1,
   "id": "42127959-a039-496f-a363-10a2d7878b8c",
   "metadata": {},
   "outputs": [],
   "source": [
    "from sklearn.feature_extraction.text import TfidfVectorizer\n",
    "from sklearn.model_selection import train_test_split\n",
    "import os\n",
    "import numpy as np\n"
   ]
  },
  {
   "cell_type": "code",
   "execution_count": 2,
   "id": "1b0c1fa1-7309-444f-8bd6-460ea522fe4b",
   "metadata": {},
   "outputs": [],
   "source": [
    "\n",
    "# Load all text files and their labels\n",
    "text_data = []\n",
    "labels = []\n",
    "label_map = {0: 0, 2: 1, 4: 2, 6: 3, 9: 4}\n",
    "reverse_label_map = {v: k for k, v in label_map.items()}\n",
    "\n"
   ]
  },
  {
   "cell_type": "code",
   "execution_count": 3,
   "id": "b843d7bb-6d2d-4442-8fd5-48f588fb2261",
   "metadata": {},
   "outputs": [],
   "source": [
    "# Assuming 'data/ocr' is your base folder for OCR text files\n",
    "base_folder = 'ML/data/ocr'\n",
    "for label_folder in os.listdir(base_folder):\n",
    "    label_folder_path = os.path.join(base_folder, label_folder)\n",
    "    for text_file in os.listdir(label_folder_path):\n",
    "        text_file_path = os.path.join(label_folder_path, text_file)\n",
    "        with open(text_file_path, 'r') as file:\n",
    "            text_data.append(file.read().strip())\n",
    "        labels.append(label_map[int(label_folder)])\n",
    "\n",
    "# Convert labels to a numpy array\n",
    "labels = np.array(labels)\n",
    "\n",
    "# Vectorize the text data\n",
    "vectorizer = TfidfVectorizer(max_features=1000)  # You can tweak 'max_features' based on your dataset\n",
    "features = vectorizer.fit_transform(text_data)\n",
    "\n",
    "# Split the data into training and test sets\n",
    "X_train, X_test, y_train, y_test = train_test_split(features, labels, test_size=0.2, random_state=42)\n"
   ]
  },
  {
   "cell_type": "code",
   "execution_count": 11,
   "id": "8674927f-ce1a-4a99-9d24-172a77daa15b",
   "metadata": {},
   "outputs": [],
   "source": [
    "import torch\n",
    "import torch.nn as nn\n",
    "from torch.utils.data import TensorDataset, DataLoader\n",
    "\n",
    "class TextClassifier(nn.Module):\n",
    "    def __init__(self, input_dim, num_classes):\n",
    "        super(TextClassifier, self).__init__()\n",
    "        self.fc1 = nn.Linear(input_dim, 512)\n",
    "        self.fc2 = nn.Linear(512, num_classes)\n",
    "    \n",
    "    def forward(self, x):\n",
    "        x = torch.relu(self.fc1(x))\n",
    "        x = self.fc2(x)\n",
    "        return x\n",
    "\n",
    "# Convert the training and test sets to PyTorch tensors\n",
    "X_train_tensor = torch.tensor(X_train.toarray(), dtype=torch.float32)\n",
    "y_train_tensor = torch.tensor(y_train, dtype=torch.long)\n",
    "X_test_tensor = torch.tensor(X_test.toarray(), dtype=torch.float32)\n",
    "y_test_tensor = torch.tensor(y_test, dtype=torch.long)\n",
    "\n",
    "# Create TensorDatasets for the training and test sets\n",
    "train_dataset = TensorDataset(X_train_tensor, y_train_tensor)\n",
    "test_dataset = TensorDataset(X_test_tensor, y_test_tensor)\n",
    "\n",
    "# Create DataLoaders for the training and test sets\n",
    "train_loader = DataLoader(train_dataset, batch_size=32, shuffle=True)\n",
    "test_loader = DataLoader(test_dataset, batch_size=32, shuffle=False)\n",
    "\n",
    "# Initialize the model\n",
    "input_dim = X_train.shape[1]  # Number of features from the TfidfVectorizer\n",
    "num_classes = len(label_map)  # Number of unique labels\n",
    "model = TextClassifier(input_dim=input_dim, num_classes=num_classes)\n"
   ]
  },
  {
   "cell_type": "code",
   "execution_count": 9,
   "id": "1105c45a-c1a9-41e9-a321-ebaf965c4d03",
   "metadata": {},
   "outputs": [],
   "source": []
  },
  {
   "cell_type": "code",
   "execution_count": null,
   "id": "5ae0e994-c65e-46cc-9791-a818333dc8f3",
   "metadata": {},
   "outputs": [],
   "source": []
  },
  {
   "cell_type": "code",
   "execution_count": 12,
   "id": "dde63333-6031-400a-bf3b-be2abbc36c37",
   "metadata": {},
   "outputs": [],
   "source": [
    "from tqdm import tqdm"
   ]
  },
  {
   "cell_type": "code",
   "execution_count": 13,
   "id": "795ed432-ead4-46bb-bb89-94d31de002da",
   "metadata": {},
   "outputs": [
    {
     "name": "stdout",
     "output_type": "stream",
     "text": [
      "Epoch 1/10, Loss: 1.0528159141540527\n",
      "Epoch 2/10, Loss: 0.6873724460601807\n",
      "Epoch 3/10, Loss: 0.7422596216201782\n",
      "Epoch 4/10, Loss: 0.2751014828681946\n",
      "Epoch 5/10, Loss: 0.1036234200000763\n",
      "Epoch 6/10, Loss: 0.09099951386451721\n",
      "Epoch 7/10, Loss: 0.0776306763291359\n",
      "Epoch 8/10, Loss: 0.0658046156167984\n",
      "Epoch 9/10, Loss: 0.25866198539733887\n",
      "Epoch 10/10, Loss: 0.03554191440343857\n"
     ]
    }
   ],
   "source": [
    "# Define loss function and optimizer\n",
    "criterion = nn.CrossEntropyLoss()\n",
    "optimizer = torch.optim.Adam(model.parameters(), lr=0.001)\n",
    "\n",
    "# Initialize a list to store loss values\n",
    "epoch_losses = []\n",
    "\n",
    "# Training loop\n",
    "num_epochs = 10  # Number of epochs for training\n",
    "for epoch in range(num_epochs):\n",
    "    model.train()  # Set the model to training mode\n",
    "    for inputs, labels in train_loader:\n",
    "        # Forward pass\n",
    "        outputs = model(inputs)\n",
    "        loss = criterion(outputs, labels)\n",
    "        \n",
    "        # Backward pass and optimize\n",
    "        optimizer.zero_grad()\n",
    "        loss.backward()\n",
    "        optimizer.step()\n",
    "    \n",
    "    print(f'Epoch {epoch+1}/{num_epochs}, Loss: {loss.item()}')\n",
    "    epoch_losses.append(loss.item())"
   ]
  },
  {
   "cell_type": "code",
   "execution_count": 14,
   "id": "9ee1779d-c92f-4c87-b455-1b7bbae6465a",
   "metadata": {},
   "outputs": [
    {
     "data": {
      "image/png": "[encoded data removed]",
      "text/plain": [
       "<Figure size 640x480 with 1 Axes>"
      ]
     },
     "metadata": {},
     "output_type": "display_data"
    }
   ],
   "source": [
    "import matplotlib.pyplot as plt\n",
    "# After training, plot the loss over epochs\n",
    "plt.plot(range(1, num_epochs + 1), epoch_losses)\n",
    "plt.xlabel('Epoch')\n",
    "plt.ylabel('Loss')\n",
    "plt.title('Loss over Epochs')\n",
    "plt.show()"
   ]
  },
  {
   "cell_type": "code",
   "execution_count": 15,
   "id": "9f88a7bd-cbe3-4267-a3f4-5695c8775325",
   "metadata": {},
   "outputs": [],
   "source": [
    "# Save the model checkpoint\n",
    "torch.save(model.state_dict(), 'models/model_ocr.pth')"
   ]
  },
  {
   "cell_type": "code",
   "execution_count": 16,
   "id": "6015cd77-47e5-4987-9e65-00a9b28671ca",
   "metadata": {},
   "outputs": [],
   "source": [
    "\n",
    "# Evaluate the model\n",
    "def evaluate_model(model, test_loader):\n",
    "    model.eval()\n",
    "    all_preds = []\n",
    "    all_labels = []\n",
    "    \n",
    "    with torch.no_grad():\n",
    "        for inputs, labels in test_loader:\n",
    "            outputs = model(inputs)\n",
    "            _, predicted = torch.max(outputs.data, 1)\n",
    "            all_preds.extend(predicted.cpu().numpy())\n",
    "            all_labels.extend(labels.cpu().numpy())\n",
    "\n",
    "    return all_labels, all_preds\n",
    "\n",
    "true_labels, predicted_labels = evaluate_model(model, test_loader)"
   ]
  },
  {
   "cell_type": "code",
   "execution_count": 18,
   "id": "656bc45c-e1ec-4d3c-b4f7-bfe993b97a5a",
   "metadata": {},
   "outputs": [
    {
     "name": "stdout",
     "output_type": "stream",
     "text": [
      "Accuracy: 0.8380\n",
      "Precision: 0.8401\n",
      "Recall: 0.8380\n",
      "F1 Score: 0.8371\n",
      "Confusion Matrix:\n",
      " [[99  2  2  6  2]\n",
      " [ 5 78  2  0  3]\n",
      " [ 1  0 90  5 12]\n",
      " [ 0  0  2 86  5]\n",
      " [ 3  1 19 11 66]]\n"
     ]
    }
   ],
   "source": [
    "from sklearn.metrics import accuracy_score, precision_recall_fscore_support, confusion_matrix\n",
    "\n",
    "accuracy = accuracy_score(true_labels, predicted_labels)\n",
    "precision, recall, f1, _ = precision_recall_fscore_support(true_labels, predicted_labels, average='weighted')\n",
    "conf_matrix = confusion_matrix(true_labels, predicted_labels)\n",
    "\n",
    "# Print the statistics\n",
    "print(f'Accuracy: {accuracy:.4f}')\n",
    "print(f'Precision: {precision:.4f}')\n",
    "print(f'Recall: {recall:.4f}')\n",
    "print(f'F1 Score: {f1:.4f}')\n",
    "print('Confusion Matrix:\\n', conf_matrix)\n"
   ]
  },
  {
   "cell_type": "code",
   "execution_count": null,
   "id": "3cc854f0-9bcd-4c1c-8d4a-3ad2cc56f092",
   "metadata": {},
   "outputs": [],
   "source": []
  }
 ],
 "metadata": {
  "kernelspec": {
   "display_name": "venv",
   "language": "python",
   "name": "venv"
  },
  "language_info": {
   "codemirror_mode": {
    "name": "ipython",
    "version": 3
   },
   "file_extension": ".py",
   "mimetype": "text/x-python",
   "name": "python",
   "nbconvert_exporter": "python",
   "pygments_lexer": "ipython3",
   "version": "3.9.13"
  }
 },
 "nbformat": 4,
 "nbformat_minor": 5
}
